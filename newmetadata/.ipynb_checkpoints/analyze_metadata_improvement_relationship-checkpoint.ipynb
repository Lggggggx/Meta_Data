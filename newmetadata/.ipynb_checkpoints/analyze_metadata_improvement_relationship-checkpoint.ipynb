{
 "cells": [
  {
   "cell_type": "markdown",
   "metadata": {},
   "source": [
    "# 分析设计的metadata信息与模型性能提升之间的关系\n",
    "\n",
    "根据生成的metadata信息，用一个RandomForestRegressor去拟合metadata与模型performance improvement之间的对应关系\n",
    "\n",
    "利用随机森林回归器的特性，能够显示各个特征的重要程度"
   ]
  },
  {
   "cell_type": "code",
   "execution_count": 4,
   "metadata": {},
   "outputs": [],
   "source": [
    "import numpy as np\n",
    "\n",
    "import matplotlib.pyplot as plt\n",
    "\n",
    "from sklearn.externals import joblib\n",
    "\n",
    "rfc_p_classify_australian = joblib.load('./rfc_p_classify_australian.joblib')\n",
    "rfc_p_classify_ethn = joblib.load('./rfc_p_classify_ethn.joblib')\n",
    "rfr_p_regression_australian = joblib.load('./rfr_p_regression_australian.joblib')\n",
    "rfr_p_regression_ethn = joblib.load('./rfr_p_regression_ethn.joblib')\n",
    "rfr_p_regression_wdbc = joblib.load('./rfr_p_regression_wdbc.joblib')\n",
    "#  = jolib.load('./.joblib')\n",
    "#  = jolib.load('./.joblib')\n",
    "#  = jolib.load('./.joblib')\n",
    "#  = jolib.load('./.joblib')\n",
    "# rfr = joblib.load('./rfr_p_regression_wdbc.joblib')\n"
   ]
  },
  {
   "cell_type": "code",
   "execution_count": 12,
   "metadata": {},
   "outputs": [
    {
     "data": {
      "image/png": "[encoded data removed]",
      "text/plain": [
       "<Figure size 432x288 with 5 Axes>"
      ]
     },
     "metadata": {},
     "output_type": "display_data"
    },
    {
     "data": {
      "text/plain": [
       "<Figure size 7200x7200 with 0 Axes>"
      ]
     },
     "metadata": {},
     "output_type": "display_data"
    }
   ],
   "source": [
    "x = np.arange(0,396)\n",
    "rfc_australian_fi = rfc_p_classify_australian.feature_importances_\n",
    "plt.subplot(231)\n",
    "plt.scatter(x, rfc_australian_fi)\n",
    "plt.title('rfc_australian')\n",
    "\n",
    "rfc_ethn_fi = rfc_p_classify_ethn.feature_importances_\n",
    "plt.subplot(232)\n",
    "plt.scatter(x, rfc_ethn_fi)\n",
    "plt.title('rfc_ethn')\n",
    "\n",
    "rfr_australian_fi = rfr_p_regression_australian.feature_importances_\n",
    "plt.subplot(234)\n",
    "plt.scatter(x, rfr_australian_fi)\n",
    "plt.title('rfr_australian')\n",
    "\n",
    "rfr_ethn_fi = rfr_p_regression_ethn.feature_importances_\n",
    "plt.subplot(235)\n",
    "plt.scatter(x, rfr_ethn_fi)\n",
    "plt.title('rfr_ethn')\n",
    "\n",
    "rfr_wdbc_fi = rfr_p_regression_wdbc.feature_importances_\n",
    "plt.subplot(236)\n",
    "plt.scatter(x, rfr_wdbc_fi)\n",
    "plt.title('rfr_wdbc')\n",
    "\n",
    "plt.figure(figsize=(100, 100))\n",
    "plt.show()"
   ]
  },
  {
   "cell_type": "code",
   "execution_count": 22,
   "metadata": {},
   "outputs": [
    {
     "name": "stdout",
     "output_type": "stream",
     "text": [
      "{1, 386, 131, 388, 132, 133, 134, 135, 136, 137, 138, 390, 141, 391, 394, 395, 2, 3, 139, 140, 4, 387, 37, 389, 39, 40, 46, 49, 50, 51, 57, 393, 58, 60, 189, 321, 328, 330, 331, 332, 78, 215}\n"
     ]
    }
   ],
   "source": [
    "rfc_australian_fi_bt001_index = np.where(rfc_australian_fi > 0.01)[0]\n",
    "rfc_ethn_fi_bt001_index = np.where(rfc_ethn_fi > 0.01)[0]\n",
    "rfr_australian_fi_bt001_index = np.where(rfr_australian_fi > 0.01)[0]\n",
    "rfr_ethn_fi_bt001_index = np.where(rfr_ethn_fi > 0.01)[0]\n",
    "rfr_wdbc_fi_bt001_index = np.where(rfr_wdbc_fi > 0.01)[0]\n",
    "\n",
    "fi_bt001_index_set = set(rfc_australian_fi_bt001_index).union(set(rfc_ethn_fi_bt001_index)).union(set(rfr_australian_fi_bt001_index)).union(set(rfr_ethn_fi_bt001_index)).union(set(rfr_wdbc_fi_bt001_index))\n",
    "\n",
    "print(fi_bt001_index_set)\n",
    "# fi_bt001_index_set.add(list(rfc_australian_fi_bt001_index))\n"
   ]
  }
 ],
 "metadata": {
  "kernelspec": {
   "display_name": "Python 3",
   "language": "python",
   "name": "python3"
  },
  "language_info": {
   "codemirror_mode": {
    "name": "ipython",
    "version": 3
   },
   "file_extension": ".py",
   "mimetype": "text/x-python",
   "name": "python",
   "nbconvert_exporter": "python",
   "pygments_lexer": "ipython3",
   "version": "3.6.5"
  }
 },
 "nbformat": 4,
 "nbformat_minor": 2
}
