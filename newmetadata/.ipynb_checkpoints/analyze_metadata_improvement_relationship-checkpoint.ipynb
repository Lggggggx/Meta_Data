{
 "cells": [
  {
   "cell_type": "code",
   "execution_count": null,
   "metadata": {},
   "outputs": [],
   "source": [
    "import numpy as np\n",
    "\n",
    "import matplotlib.pyplot as plt\n",
    "\n",
    "from sklearn.externals import joblib\n",
    "rfr = joblib.load('./rfr_p_regression_wdbc.joblib')\n",
    "feature_importance = rfr.feature_importances_\n",
    "print(np.shape(feature_importance))\n",
    "print(np.argmax(feature_importance ))\n",
    "\n",
    "# print(np.argsort(feature_importance))\n",
    "\n",
    "# print(feature_importance)\n",
    "\n",
    "\n",
    "x = np.arange(0,396)\n",
    "plt.scatter(x, feature_importance)\n",
    "plt.show()"
   ]
  }
 ],
 "metadata": {
  "kernelspec": {
   "display_name": "Python 3",
   "language": "python",
   "name": "python3"
  },
  "language_info": {
   "codemirror_mode": {
    "name": "ipython",
    "version": 3
   },
   "file_extension": ".py",
   "mimetype": "text/x-python",
   "name": "python",
   "nbconvert_exporter": "python",
   "pygments_lexer": "ipython3",
   "version": "3.6.5"
  }
 },
 "nbformat": 4,
 "nbformat_minor": 2
}
