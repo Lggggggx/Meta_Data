{
 "cells": [
  {
   "cell_type": "code",
   "execution_count": 15,
   "metadata": {},
   "outputs": [
    {
     "name": "stdout",
     "output_type": "stream",
     "text": [
      "Net(\n",
      "  (first_hidden): Linear(in_features=396, out_features=100, bias=True)\n",
      "  (second_hidden): Linear(in_features=100, out_features=20, bias=True)\n",
      "  (out): Linear(in_features=20, out_features=2, bias=True)\n",
      ")\n"
     ]
    }
   ],
   "source": [
    "import torch\n",
    "import torch.nn.functional as F\n",
    "\n",
    "class Net(torch.nn.Module):\n",
    "    def __init__(self, n_feature, first_n_hidden, second_n_hidden, n_output):\n",
    "        super(Net, self).__init__()\n",
    "        self.first_hidden = torch.nn.Linear(n_feature, first_n_hidden)\n",
    "        self.second_hidden = torch.nn.Linear(first_n_hidden, second_n_hidden)\n",
    "        self.out = torch.nn.Linear(second_n_hidden, n_output)\n",
    "    \n",
    "    def forward(self, x):\n",
    "        x = F.relu(self.first_hidden(x))\n",
    "        x = F.relu(self.second_hidden(x))\n",
    "        x = self.out(x)\n",
    "        return x\n",
    "\n",
    "net = Net(n_feature=396, first_n_hidden=100, second_n_hidden=20, n_output=2)\n",
    "net2 = Net(n_feature=418, first_n_hidden=200, second_n_hidden=100, n_output=2)\n",
    "print(net)"
   ]
  },
  {
   "cell_type": "code",
   "execution_count": 2,
   "metadata": {},
   "outputs": [
    {
     "name": "stdout",
     "output_type": "stream",
     "text": [
      "Sequential(\n",
      "  (0): Linear(in_features=396, out_features=100, bias=True)\n",
      "  (1): ReLU()\n",
      "  (2): Linear(in_features=100, out_features=20, bias=True)\n",
      "  (3): ReLU()\n",
      "  (4): Linear(in_features=20, out_features=2, bias=True)\n",
      ")\n"
     ]
    }
   ],
   "source": [
    "net2 = torch.nn.Sequential(\n",
    "    torch.nn.Linear(396, 100),\n",
    "    torch.nn.ReLU(),\n",
    "    torch.nn.Linear(100, 20),\n",
    "    torch.nn.ReLU(),\n",
    "    torch.nn.Linear(20, 2),\n",
    ")\n",
    "print(net2)"
   ]
  },
  {
   "cell_type": "code",
   "execution_count": 16,
   "metadata": {
    "scrolled": false
   },
   "outputs": [
    {
     "name": "stdout",
     "output_type": "stream",
     "text": [
      "torch.float32\n",
      "torch.int64\n"
     ]
    }
   ],
   "source": [
    "import os\n",
    "import numpy as np \n",
    "import torch.utils.data as Data\n",
    "import torch.optim as optim\n",
    "\n",
    "BATCH_SIZE = 10\n",
    "EPOCH_SIZE = 2\n",
    "save_path = './'\n",
    "\n",
    "# load metadata\n",
    "metadata = None\n",
    "# Note that, metadata_dir depends on your folder path.\n",
    "metadata_dir = 'E:/metadata数据集/new_bigmetadata/australian/query_time/'\n",
    "\n",
    "for _, _, files in os.walk(metadata_dir):\n",
    "    for file in files:\n",
    "        temp_metadata = np.load(metadata_dir + file)\n",
    "        if metadata is None:\n",
    "            metadata = temp_metadata\n",
    "        else:\n",
    "            metadata = np.vstack((metadata, temp_metadata))\n",
    "            \n",
    "# metadata1 = np.load('D:/generate_metadata/bigmetadata/wdbc/query_time/query_time_5interval/query_time50/2wdbc30_big_metadata50.npy')\n",
    "# metadata2 = np.load('D:/generate_metadata/bigmetadata/wdbc/query_time/query_time_5interval/query_time50/20wdbc30_big_metadata50.npy')\n",
    "# metadata3 = np.load('D:/generate_metadata/bigmetadata/wdbc/query_time/query_time_5interval/query_time50/40wdbc30_big_metadata50.npy')\n",
    "# metadata4 = np.load('D:/generate_metadata/bigmetadata/wdbc/query_time/query_time_5interval/query_time50/80wdbc30_big_metadata50.npy')\n",
    "# metadata5 = np.load('D:/generate_metadata/bigmetadata/wdbc/query_time/query_time_5interval/query_time50/10wdbc30_big_metadata50.npy')\n",
    "# metadata6 = np.load('D:/generate_metadata/bigmetadata/wdbc/query_time/query_time_5interval/query_time50/4wdbc30_big_metadata50.npy')\n",
    "\n",
    "# metadata = np.vstack((metadata1, metadata2, metadata3, metadata4, metadata5, metadata6 ))\n",
    "\n",
    "# X = metadata[:, 0:396]\n",
    "# y = metadata[:, 396]\n",
    "X = metadata[:, 0:418]\n",
    "y = metadata[:, 418]\n",
    "y[np.where(y>0)[0]] = 1\n",
    "y[np.where(y<=0)[0]] = 0\n",
    "\n",
    "X_tensor = torch.from_numpy(X)\n",
    "y_tensor = torch.from_numpy(y)\n",
    "X_tensor = X_tensor.float()\n",
    "y_tensor = y_tensor.long()\n",
    "print(X_tensor.dtype)\n",
    "print(y_tensor.dtype)\n",
    "# troch_dataset = Data.TensorDataset(data_tensor=X_tensor, target_tensor=y_tensor)\n",
    "troch_dataset = Data.TensorDataset(X_tensor, y_tensor)\n",
    "\n",
    "loader = Data.DataLoader(dataset=troch_dataset,\n",
    "                        batch_size=BATCH_SIZE,\n",
    "                        shuffle=True,\n",
    "                        num_workers=3)"
   ]
  },
  {
   "cell_type": "code",
   "execution_count": 17,
   "metadata": {
    "scrolled": true
   },
   "outputs": [
    {
     "name": "stdout",
     "output_type": "stream",
     "text": [
      "[1,  1000] loss: 1.547\n",
      "[1,  2000] loss: 1.544\n",
      "[1,  3000] loss: 1.537\n",
      "[1,  4000] loss: 1.546\n",
      "[1,  5000] loss: 1.539\n",
      "[1,  6000] loss: 1.544\n",
      "[2,  1000] loss: 1.538\n",
      "[2,  2000] loss: 1.545\n",
      "[2,  3000] loss: 1.538\n",
      "[2,  4000] loss: 1.551\n",
      "[2,  5000] loss: 1.542\n",
      "[2,  6000] loss: 1.543\n"
     ]
    }
   ],
   "source": [
    "criterion = torch.nn.CrossEntropyLoss()\n",
    "# optimizer = optim.SGD(net.parameters(), lr=0.001, momentum=0.9)\n",
    "optimizer = optim.Adam(net2.parameters(), lr=1e-3, weight_decay=1e-3)\n",
    "# 训练所有数据2次\n",
    "for epoch in range(EPOCH_SIZE):\n",
    "    running_loss = 0.0\n",
    "    for step, (batch_x, batch_y) in enumerate(loader):\n",
    "#         print('Epoch: ', epoch, '| Step: ', step, '| batch x: ',batch_x.numpy(), '| batch y: ', batch_y.numpy())\n",
    "        \n",
    "                # zero the parameter gradients\n",
    "        optimizer.zero_grad()\n",
    "#         print(batch_x.dtype)\n",
    "#         print(batch_y.dtype)\n",
    "#         print(batch_x.shape)\n",
    "\n",
    "        # forward + backward + optimize\n",
    "#         outputs = net(batch_x)\n",
    "\n",
    "        outputs = net2(batch_x)\n",
    "#         print(outputs.dtype)\n",
    "#         outputs = outputs.int()\n",
    "        loss = criterion(outputs, batch_y)\n",
    "        loss.backward()\n",
    "        optimizer.step()\n",
    "\n",
    "        # print statistics\n",
    "        running_loss += loss.item()\n",
    "        if step % 1000 == 999:    # print every 2000 mini-batches\n",
    "            print('[%d, %5d] loss: %.3f' %\n",
    "                  (epoch + 1, step + 1, running_loss / 2000))\n",
    "            running_loss = 0.0\n",
    "\n",
    "torch.save({\n",
    "            'model_state_dict': net2.state_dict(),\n",
    "            'optimizer_state_dict': optimizer.state_dict(),\n",
    "            }, './net_parameters.pth')"
   ]
  },
  {
   "cell_type": "code",
   "execution_count": 13,
   "metadata": {},
   "outputs": [
    {
     "name": "stdout",
     "output_type": "stream",
     "text": [
      "(27000, 422)\n",
      "[ 0.00290698 -0.0377907  -0.0377907   0.03197674  0.02325581 -0.0377907\n",
      " -0.04651163 -0.01453488 -0.03488372  0.04651163]\n",
      "[ 0.01433692  0.0724697   0.03754907  0.00771463 -0.01375661  0.0724697\n",
      "  0.00873869  0.05185185  0.05226148  0.03130227]\n",
      "[ 0.00806452 -0.10483871 -0.10483871  0.08870968  0.06451613 -0.10483871\n",
      " -0.12903226 -0.04032258 -0.09677419  0.12903226]\n",
      "[ 0.00806921 -0.10484089 -0.10484108  0.08871349  0.06452435 -0.10484089\n",
      " -0.12903358 -0.04032345 -0.09677616  0.129036  ]\n"
     ]
    },
    {
     "name": "stderr",
     "output_type": "stream",
     "text": [
      "C:\\ProgramData\\Anaconda3\\lib\\site-packages\\ipykernel_launcher.py:23: UserWarning: Implicit dimension choice for softmax has been deprecated. Change the call to include dim=X as an argument.\n"
     ]
    },
    {
     "name": "stdout",
     "output_type": "stream",
     "text": [
      "tensor([[0.0435, 0.9565],\n",
      "        [0.0437, 0.9563],\n",
      "        [0.0429, 0.9571],\n",
      "        ...,\n",
      "        [0.0429, 0.9571],\n",
      "        [0.0446, 0.9554],\n",
      "        [0.0426, 0.9574]], grad_fn=<SoftmaxBackward>)\n"
     ]
    },
    {
     "name": "stderr",
     "output_type": "stream",
     "text": [
      "C:\\ProgramData\\Anaconda3\\lib\\site-packages\\ipykernel_launcher.py:24: UserWarning: Implicit dimension choice for softmax has been deprecated. Change the call to include dim=X as an argument.\n"
     ]
    },
    {
     "name": "stdout",
     "output_type": "stream",
     "text": [
      "tensor([1, 1, 1,  ..., 1, 1, 1])\n",
      "0.47733333333333333\n"
     ]
    }
   ],
   "source": [
    "from sklearn.metrics import accuracy_score\n",
    "\n",
    "metadata = np.load('E:/metadata数据集/new_bigmetadata/australian/query_time/2australian30_big_metadata30.npy')\n",
    "print(metadata.shape)\n",
    "print(metadata[0:10,418])\n",
    "print(metadata[0:10,419])\n",
    "print(metadata[0:10,420])\n",
    "print(metadata[0:10,421])\n",
    "\n",
    "\n",
    "# X = metadata[:, 0:396]\n",
    "# y = metadata[:, 396]\n",
    "X = metadata[:, 0:418]\n",
    "y = metadata[:, 418]\n",
    "y[np.where(y>0)[0]] = 1\n",
    "y[np.where(y<=0)[0]] = 0\n",
    "X_tensor = torch.from_numpy(X)\n",
    "y_tensor = torch.from_numpy(y)\n",
    "X_tensor = X_tensor.float()\n",
    "y_tensor = y_tensor.long()\n",
    "\n",
    "out = net2(X_tensor)\n",
    "print(F.softmax(out))\n",
    "pd = torch.max(F.softmax(out), 1)[1]\n",
    "print(pd)\n",
    "# print(pred)\n",
    "# pred_np=pred.detach().numpy()\n",
    "# print(pred_np)\n",
    "# predict = np.zeros_like(pred_np[:,0])\n",
    "# predict = pred_np[:,0] - pred_np[:,1]\n",
    "# predict[np.where(predict>0)[0]] = 1\n",
    "# predict[np.where(predict<=0)[0]] = 0\n",
    "\n",
    "# print(predict)\n",
    "# print(accuracy_score(y, predict))\n",
    "print(accuracy_score(y, pd))"
   ]
  },
  {
   "cell_type": "code",
   "execution_count": 4,
   "metadata": {},
   "outputs": [
    {
     "name": "stdout",
     "output_type": "stream",
     "text": [
      "OrderedDict([('first_hidden.weight', tensor([[-0.0455,  0.0017,  0.0487,  ...,  0.0008, -0.0073, -0.0484],\n",
      "        [ 0.0325,  0.0424,  0.0237,  ...,  0.0343,  0.0465,  0.0233],\n",
      "        [-0.0104,  0.0068, -0.0114,  ...,  0.0306, -0.0182, -0.0364],\n",
      "        ...,\n",
      "        [ 0.0421,  0.0049, -0.0122,  ...,  0.0033,  0.0141, -0.0486],\n",
      "        [ 0.0270,  0.0301, -0.0278,  ...,  0.0451, -0.0043, -0.0324],\n",
      "        [ 0.0053,  0.0174, -0.0263,  ...,  0.0248, -0.0348,  0.0382]])), ('first_hidden.bias', tensor([-0.0076,  0.0144,  0.0075, -0.0109,  0.0172,  0.0154, -0.0261, -0.0118,\n",
      "         0.0238, -0.0212, -0.0175, -0.0027, -0.0482,  0.0038,  0.0451, -0.0058,\n",
      "        -0.0329,  0.0162, -0.0024, -0.0353,  0.0152,  0.0204, -0.0408, -0.0462,\n",
      "        -0.0376,  0.0385,  0.0142, -0.0064, -0.0006,  0.0094, -0.0221,  0.0282,\n",
      "        -0.0266,  0.0482, -0.0300,  0.0224, -0.0057, -0.0282, -0.0025, -0.0314,\n",
      "         0.0015, -0.0386, -0.0291, -0.0353, -0.0319,  0.0394, -0.0111, -0.0013,\n",
      "         0.0314, -0.0321, -0.0353,  0.0423, -0.0441,  0.0350,  0.0185,  0.0457,\n",
      "        -0.0299,  0.0329,  0.0148, -0.0269,  0.0052, -0.0127,  0.0036,  0.0328,\n",
      "        -0.0486,  0.0040, -0.0095, -0.0274, -0.0242, -0.0363, -0.0298, -0.0119,\n",
      "         0.0298,  0.0445, -0.0044, -0.0474, -0.0336,  0.0339,  0.0047, -0.0010,\n",
      "         0.0106,  0.0077,  0.0317,  0.0426,  0.0093,  0.0303, -0.0091,  0.0043,\n",
      "        -0.0093,  0.0372,  0.0323,  0.0068,  0.0207,  0.0363, -0.0148,  0.0231,\n",
      "        -0.0233,  0.0166,  0.0174, -0.0421])), ('second_hidden.weight', tensor([[-0.0151, -0.0460, -0.0443,  ..., -0.0780, -0.0921,  0.0856],\n",
      "        [-0.0498, -0.0744,  0.0943,  ..., -0.0424, -0.0207, -0.0958],\n",
      "        [ 0.0948,  0.0188, -0.0323,  ..., -0.0357, -0.0041,  0.0837],\n",
      "        ...,\n",
      "        [ 0.0047, -0.0407,  0.0383,  ..., -0.0131, -0.0354,  0.0680],\n",
      "        [ 0.0111, -0.0148, -0.0857,  ..., -0.0924,  0.0312, -0.0404],\n",
      "        [-0.0673, -0.0685,  0.0618,  ...,  0.0250,  0.0992, -0.0017]])), ('second_hidden.bias', tensor([ 0.0495,  0.0782, -0.0553, -0.0917, -0.0737, -0.0518,  0.0648, -0.0496,\n",
      "         0.0374,  0.0870,  0.0361, -0.0013, -0.0731,  0.0176,  0.0339, -0.0666,\n",
      "         0.0476, -0.0573, -0.0218,  0.0260])), ('out.weight', tensor([[-1.2619e-01,  9.4558e-02,  1.0010e-01,  1.9962e-01,  1.0043e-01,\n",
      "         -1.4745e-01, -1.0284e-01,  2.1798e-01,  3.5853e-02, -3.2463e-03,\n",
      "         -1.1494e-01,  7.2157e-02, -2.0221e-01,  7.6927e-02,  1.7185e-01,\n",
      "          9.1741e-02, -5.7071e-06,  1.2878e-01, -1.3656e-01,  7.5347e-02],\n",
      "        [ 1.5279e-01,  8.7422e-02,  3.2658e-02, -1.8957e-01, -1.0298e-01,\n",
      "         -1.3948e-02,  4.5058e-02,  1.0886e-01,  1.1924e-02,  5.7827e-03,\n",
      "          1.8543e-01, -1.9498e-02, -1.6461e-01,  8.8750e-02,  3.9194e-02,\n",
      "          8.2614e-02,  1.4406e-01, -1.5304e-01, -1.9150e-02,  2.0996e-01]])), ('out.bias', tensor([-0.0885,  0.1866]))])\n"
     ]
    },
    {
     "data": {
      "text/plain": [
       "Net(\n",
       "  (first_hidden): Linear(in_features=418, out_features=100, bias=True)\n",
       "  (second_hidden): Linear(in_features=100, out_features=20, bias=True)\n",
       "  (out): Linear(in_features=20, out_features=2, bias=True)\n",
       ")"
      ]
     },
     "execution_count": 4,
     "metadata": {},
     "output_type": "execute_result"
    }
   ],
   "source": [
    "net_parameters = torch.load('./net_parameters')\n",
    "print(net_parameters['model_state_dict'])\n",
    "temp_net = Net(n_feature=418, first_n_hidden=100, second_n_hidden=20, n_output=2)\n",
    "temp_net.load_state_dict(net_parameters['model_state_dict'])\n",
    "temp_net.eval()"
   ]
  }
 ],
 "metadata": {
  "kernelspec": {
   "display_name": "pytorch",
   "language": "python",
   "name": "pyroch"
  },
  "language_info": {
   "codemirror_mode": {
    "name": "ipython",
    "version": 3
   },
   "file_extension": ".py",
   "mimetype": "text/x-python",
   "name": "python",
   "nbconvert_exporter": "python",
   "pygments_lexer": "ipython3",
   "version": "3.6.2"
  }
 },
 "nbformat": 4,
 "nbformat_minor": 2
}
