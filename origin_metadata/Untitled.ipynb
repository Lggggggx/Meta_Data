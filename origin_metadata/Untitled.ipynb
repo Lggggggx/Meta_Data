{
 "cells": [
  {
   "cell_type": "code",
   "execution_count": 9,
   "metadata": {},
   "outputs": [
    {
     "name": "stdout",
     "output_type": "stream",
     "text": [
      "0.4116222760290557 -0.29055690072639223 0.004793852569276298 0.03560393118645353\n",
      "0.28294072584506363 -0.25718668869483124 0.0022095922641664277 0.013616590863376568\n",
      "0.7309417040358746 -1.8070175438596492 0.010233280383260216 0.1174111538381093\n",
      "0.7309401468127728 -1.8070387988680598 0.010233288553499174 0.11741123924599162\n"
     ]
    }
   ],
   "source": [
    "import numpy as np\n",
    "data = np.load('./australian_lr_metadata.npy')\n",
    "n_samples, _ = np.shape(data)\n",
    "index = np.arange(n_samples)\n",
    "np.random.shuffle(index)\n",
    "\n",
    "# print(data[index[0:20],396:])\n",
    "print(np.max(data[:,396]), np.min(data[:,396]), np.mean(data[:,396]), np.std(data[:,396]))\n",
    "print(np.max(data[:,397]), np.min(data[:,397]), np.mean(data[:,397]), np.std(data[:,397]))\n",
    "print(np.max(data[:,398]), np.min(data[:,398]), np.mean(data[:,398]), np.std(data[:,398]))\n",
    "print(np.max(data[:,399]), np.min(data[:,399]), np.mean(data[:,399]), np.std(data[:,399]))"
   ]
  },
  {
   "cell_type": "code",
   "execution_count": null,
   "metadata": {},
   "outputs": [],
   "source": []
  }
 ],
 "metadata": {
  "kernelspec": {
   "display_name": "Python 3",
   "language": "python",
   "name": "python3"
  },
  "language_info": {
   "codemirror_mode": {
    "name": "ipython",
    "version": 3
   },
   "file_extension": ".py",
   "mimetype": "text/x-python",
   "name": "python",
   "nbconvert_exporter": "python",
   "pygments_lexer": "ipython3",
   "version": "3.6.5"
  }
 },
 "nbformat": 4,
 "nbformat_minor": 2
}
